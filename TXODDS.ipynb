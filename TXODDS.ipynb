{
 "cells": [
  {
   "cell_type": "markdown",
   "id": "ca860143-0c5d-453b-b5bb-8a3e576be3a4",
   "metadata": {},
   "source": [
    "### Imports"
   ]
  },
  {
   "cell_type": "code",
   "execution_count": 6,
   "id": "788a5e66-c206-4606-a7cb-ab1a4c3f7015",
   "metadata": {},
   "outputs": [],
   "source": [
    "from bs4 import BeautifulSoup as bs\n",
    "import pandas as pd\n",
    "import requests\n",
    "import concurrent.futures\n",
    "\n",
    "import time"
   ]
  },
  {
   "cell_type": "code",
   "execution_count": 7,
   "id": "044eed49-9ec7-42ff-b2d6-8ad22971acb8",
   "metadata": {},
   "outputs": [],
   "source": [
    "start_time = time.time()\n",
    "\n",
    "input_list = []\n",
    "output_list = []\n",
    "     "
   ]
  },
  {
   "cell_type": "markdown",
   "id": "07e972f0-ec3e-4238-9574-423eae1c64e0",
   "metadata": {},
   "source": [
    "### Producer"
   ]
  },
  {
   "cell_type": "code",
   "execution_count": 8,
   "id": "7bbcce01-2be4-46f5-b4c5-7a1ef88c1d9a",
   "metadata": {},
   "outputs": [],
   "source": [
    "#assuming a csv file with white space between each url\n",
    "raw_list = pd.read_csv('url_list.txt', sep=\" \", header=None, names=['url', '#'])\n",
    "        \n",
    "def get_urls():\n",
    "        \n",
    "        #iterate all url's and add them to the stack\n",
    "        for index, row in raw_list.iterrows():\n",
    "            url = row['url']           \n",
    "            input_list.append(url)"
   ]
  },
  {
   "cell_type": "markdown",
   "id": "aafe2cac-9156-488e-ac18-01e8985ddeaf",
   "metadata": {},
   "source": [
    "### Consumer"
   ]
  },
  {
   "cell_type": "code",
   "execution_count": 9,
   "id": "34a95f53-1711-499f-91f6-a451ebe83fec",
   "metadata": {},
   "outputs": [],
   "source": [
    "def get_links(url):    \n",
    "        r = requests.get(url).text\n",
    "        soup = bs(r, 'html.parser')\n",
    "        for link in soup.find_all('a'):\n",
    "            hyper = str(link.get('href'))\n",
    "            \n",
    "            #ignoring the relative_paths\n",
    "            if not hyper.find(\"https://\"):                           \n",
    "                output_list.append(hyper)\n",
    "        return\n"
   ]
  },
  {
   "cell_type": "code",
   "execution_count": 13,
   "id": "dfda634e-2112-4950-9881-4432f9b2d7d3",
   "metadata": {},
   "outputs": [
    {
     "name": "stdout",
     "output_type": "stream",
     "text": [
      "599.1289553642273\n"
     ]
    }
   ],
   "source": [
    "def main():   \n",
    "    with concurrent.futures.ThreadPoolExecutor() as executor:\n",
    "        get_urls()\n",
    "        executor.map(get_links, input_list)   \n",
    "    \n",
    "main()\n",
    "duration = time.time() - start_time\n",
    "print(duration)\n"
   ]
  },
  {
   "cell_type": "code",
   "execution_count": null,
   "id": "65fad1f7-3037-491d-a9d5-5b8080a0629f",
   "metadata": {},
   "outputs": [],
   "source": []
  },
  {
   "cell_type": "code",
   "execution_count": null,
   "id": "cf68e9e8-76ce-402f-9a91-f6ed7c441b9a",
   "metadata": {},
   "outputs": [],
   "source": []
  },
  {
   "cell_type": "code",
   "execution_count": null,
   "id": "0d01dab7-02c3-40e9-acfb-f2edd87de943",
   "metadata": {},
   "outputs": [],
   "source": []
  }
 ],
 "metadata": {
  "kernelspec": {
   "display_name": "Python 3",
   "language": "python",
   "name": "python3"
  },
  "language_info": {
   "codemirror_mode": {
    "name": "ipython",
    "version": 3
   },
   "file_extension": ".py",
   "mimetype": "text/x-python",
   "name": "python",
   "nbconvert_exporter": "python",
   "pygments_lexer": "ipython3",
   "version": "3.8.3"
  }
 },
 "nbformat": 4,
 "nbformat_minor": 5
}
