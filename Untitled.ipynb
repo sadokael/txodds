{
 "cells": [
  {
   "cell_type": "markdown",
   "id": "ca860143-0c5d-453b-b5bb-8a3e576be3a4",
   "metadata": {},
   "source": [
    "### Imports"
   ]
  },
  {
   "cell_type": "code",
   "execution_count": 88,
   "id": "788a5e66-c206-4606-a7cb-ab1a4c3f7015",
   "metadata": {},
   "outputs": [],
   "source": [
    "from bs4 import BeautifulSoup as bs\n",
    "import pandas as pd\n",
    "import requests\n",
    "import queue\n",
    "\n"
   ]
  },
  {
   "cell_type": "markdown",
   "id": "07e972f0-ec3e-4238-9574-423eae1c64e0",
   "metadata": {},
   "source": [
    "### Producer"
   ]
  },
  {
   "cell_type": "code",
   "execution_count": 89,
   "id": "0a2dd103-3276-4162-a3cd-3a2be29574aa",
   "metadata": {},
   "outputs": [],
   "source": [
    "#global stack\n",
    "#FIFO queue / lifo = queue.LifoQueue()\n",
    "stack = queue.Queue()\n",
    "\n",
    "def get_urls():\n",
    "    #assuming a csv file with white space between each url\n",
    "    raw_list = pd.read_csv('url_list.txt', sep=\" \", header=None, names=['url', '#'])\n",
    "    \n",
    "    #iterate all url's and add them to the stack\n",
    "    for index, row in raw_list.iterrows():\n",
    "        url = row['url']\n",
    "        stack.put(url)"
   ]
  },
  {
   "cell_type": "code",
   "execution_count": 86,
   "id": "b94f2b2b-668b-4a28-a7d3-387a46b49524",
   "metadata": {},
   "outputs": [],
   "source": [
    "get_urls()"
   ]
  },
  {
   "cell_type": "markdown",
   "id": "aafe2cac-9156-488e-ac18-01e8985ddeaf",
   "metadata": {},
   "source": [
    "### Consumer"
   ]
  },
  {
   "cell_type": "code",
   "execution_count": 45,
   "id": "34a95f53-1711-499f-91f6-a451ebe83fec",
   "metadata": {},
   "outputs": [],
   "source": [
    "def get_links(url): \n",
    "    r = requests.get(url).text \n",
    "  \n",
    "    soup = bs(r, 'html.parser')\n",
    "\n",
    "    for link in soup.find_all('a'):\n",
    "        hyper = str(link.get('href'))\n",
    "    \n",
    "        if not hyper.find(\"https://\"):\n",
    "            print(hyper)\n",
    "            break\n",
    "    \n"
   ]
  },
  {
   "cell_type": "code",
   "execution_count": 46,
   "id": "2134e69f-94d8-4de7-a98b-430a2a21ba06",
   "metadata": {},
   "outputs": [
    {
     "name": "stdout",
     "output_type": "stream",
     "text": [
      "https://en.wikipedia.org/wiki/Rainbow\n"
     ]
    }
   ],
   "source": [
    "get_links(\"https://commons.wikimedia.org/wiki/Main_Page\")"
   ]
  },
  {
   "cell_type": "code",
   "execution_count": null,
   "id": "dfda634e-2112-4950-9881-4432f9b2d7d3",
   "metadata": {},
   "outputs": [],
   "source": []
  }
 ],
 "metadata": {
  "kernelspec": {
   "display_name": "Python 3",
   "language": "python",
   "name": "python3"
  },
  "language_info": {
   "codemirror_mode": {
    "name": "ipython",
    "version": 3
   },
   "file_extension": ".py",
   "mimetype": "text/x-python",
   "name": "python",
   "nbconvert_exporter": "python",
   "pygments_lexer": "ipython3",
   "version": "3.8.3"
  }
 },
 "nbformat": 4,
 "nbformat_minor": 5
}
